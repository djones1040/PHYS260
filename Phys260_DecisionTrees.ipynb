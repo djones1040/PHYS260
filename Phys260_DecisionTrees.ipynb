{
 "cells": [
  {
   "cell_type": "markdown",
   "id": "5f77dc34",
   "metadata": {},
   "source": [
    "# Machine Learning Classification Problems\n",
    "\n",
    "## 1. Decision Trees\n",
    "\n",
    "First, we're going to try out a simple decision tree classifier"
   ]
  },
  {
   "cell_type": "code",
   "execution_count": null,
   "id": "213175e9",
   "metadata": {},
   "outputs": [],
   "source": [
    "## preliminaries\n",
    "import matplotlib.pyplot as plt\n",
    "import numpy as np\n",
    "\n",
    "from sklearn.tree import DecisionTreeRegressor\n",
    "from sklearn import tree\n",
    "%matplotlib inline"
   ]
  },
  {
   "cell_type": "code",
   "execution_count": null,
   "id": "4178a730",
   "metadata": {},
   "outputs": [],
   "source": [
    "# Create a random dataset\n",
    "rng = np.random.RandomState(1)\n",
    "X = np.sort(5 * rng.rand(80, 1), axis=0)\n",
    "y = np.sin(X).ravel()\n",
    "y[::5] += 3 * (0.5 - rng.rand(16))\n",
    "\n",
    "# Fit regression model\n",
    "regr_1 = DecisionTreeRegressor(max_depth=1)\n",
    "regr_2 = DecisionTreeRegressor(max_depth=2)\n",
    "regr_3 = DecisionTreeRegressor(max_depth=5)\n",
    "regr_1.fit(X, y)\n",
    "regr_2.fit(X, y)\n",
    "regr_3.fit(X, y)\n",
    "\n",
    "# Predict\n",
    "X_test = np.arange(0.0, 5.0, 0.01)[:, np.newaxis]\n",
    "y_1 = regr_1.predict(X_test)\n",
    "y_2 = regr_2.predict(X_test)\n",
    "y_ = regr_3.predict(X_test)"
   ]
  },
  {
   "cell_type": "code",
   "execution_count": null,
   "id": "33aad700",
   "metadata": {},
   "outputs": [],
   "source": [
    "# Plot the results\n",
    "plt.figure()\n",
    "plt.scatter(X, y, s=20, edgecolor=\"black\", c=\"darkorange\", label=\"data\")\n",
    "plt.xlabel(\"data\")\n",
    "plt.ylabel(\"target\")\n",
    "plt.title(\"Decision Tree Regression\")\n",
    "plt.legend()"
   ]
  },
  {
   "cell_type": "code",
   "execution_count": null,
   "id": "a5789f15",
   "metadata": {},
   "outputs": [],
   "source": [
    "# Plot the results\n",
    "plt.figure()\n",
    "plt.scatter(X, y, s=20, edgecolor=\"black\", c=\"darkorange\", label=\"data\")\n",
    "plt.plot(X_test, y_1, color=\"C0\", label=\"max_depth=2\", linewidth=2)\n",
    "plt.xlabel(\"data\")\n",
    "plt.ylabel(\"target\")\n",
    "plt.title(\"Decision Tree Regression\")\n",
    "plt.legend()"
   ]
  },
  {
   "cell_type": "code",
   "execution_count": null,
   "id": "3f3795e6",
   "metadata": {},
   "outputs": [],
   "source": [
    "tree.plot_tree(regr_1)"
   ]
  },
  {
   "cell_type": "code",
   "execution_count": null,
   "id": "05ea432f",
   "metadata": {},
   "outputs": [],
   "source": [
    "plt.figure()\n",
    "plt.scatter(X, y, s=20, edgecolor=\"black\", c=\"darkorange\", label=\"data\")\n",
    "plt.plot(X_test, y_1, color=\"C0\", label=\"max_depth=1\", linewidth=2)\n",
    "plt.plot(X_test, y_2, color=\"C1\", label=\"max_depth=2\", linewidth=2)\n",
    "plt.xlabel(\"data\")\n",
    "plt.ylabel(\"target\")\n",
    "plt.title(\"Decision Tree Regression\")\n",
    "plt.legend()"
   ]
  },
  {
   "cell_type": "code",
   "execution_count": null,
   "id": "f684e4a8",
   "metadata": {},
   "outputs": [],
   "source": [
    "tree.plot_tree(regr_2)"
   ]
  },
  {
   "cell_type": "code",
   "execution_count": null,
   "id": "f05d2c48",
   "metadata": {},
   "outputs": [],
   "source": [
    "plt.figure()\n",
    "plt.scatter(X, y, s=20, edgecolor=\"black\", c=\"darkorange\", label=\"data\")\n",
    "plt.plot(X_test, y_1, color=\"C0\", label=\"max_depth=2\", linewidth=2)\n",
    "plt.plot(X_test, y_2, color=\"C1\", label=\"max_depth=2\", linewidth=2)\n",
    "plt.plot(X_test, y_3, color=\"C2\", label=\"max_depth=2\", linewidth=2)\n",
    "plt.xlabel(\"data\")\n",
    "plt.ylabel(\"target\")\n",
    "plt.title(\"Decision Tree Regression\")\n",
    "plt.legend()"
   ]
  },
  {
   "cell_type": "code",
   "execution_count": null,
   "id": "2f51382a",
   "metadata": {},
   "outputs": [],
   "source": [
    "tree.plot_tree(regr_3)"
   ]
  },
  {
   "cell_type": "markdown",
   "id": "ef8ed365",
   "metadata": {},
   "source": [
    "## Decision Trees, Part 2\n",
    "\n",
    "Now, let's try to ask a more interesting question.  Let's see if we can figure out the redshift of a galaxy by its photometry (brightness in different bands)."
   ]
  },
  {
   "cell_type": "code",
   "execution_count": null,
   "id": "d4f73b11",
   "metadata": {},
   "outputs": [],
   "source": [
    "from astroML.datasets import fetch_sdss_specgals\n",
    "data = fetch_sdss_specgals()"
   ]
  },
  {
   "cell_type": "code",
   "execution_count": null,
   "id": "65328b56",
   "metadata": {},
   "outputs": [],
   "source": [
    "y_train = data['z'][0:60000]\n",
    "x_train = np.array([data['modelMag_u'][0:60000],data['modelMag_g'][0:60000],data['modelMag_r'][0:60000],\n",
    "           data['modelMag_i'][0:60000],data['modelMag_z'][0:60000]]).T\n",
    "y_valid = data['z'][60000:]\n",
    "x_valid = np.array([data['modelMag_u'][60000:],data['modelMag_g'][60000:],data['modelMag_r'][60000:],\n",
    "           data['modelMag_i'][60000:],data['modelMag_z'][60000:]]).T\n"
   ]
  },
  {
   "cell_type": "code",
   "execution_count": null,
   "id": "f9fb44d7",
   "metadata": {},
   "outputs": [],
   "source": [
    "regr_1 = DecisionTreeRegressor(max_depth=15)\n",
    "regr_1.fit(x_train, y_train)"
   ]
  },
  {
   "cell_type": "code",
   "execution_count": null,
   "id": "00a99f9f",
   "metadata": {},
   "outputs": [],
   "source": [
    "y_est = regr_1.predict(x_valid)"
   ]
  },
  {
   "cell_type": "code",
   "execution_count": null,
   "id": "31d16125",
   "metadata": {},
   "outputs": [],
   "source": [
    "plt.plot(y_valid,y_est,'.',ms=0.01)\n",
    "plt.plot(np.linspace(0,0.4,10),np.linspace(0,0.4,10),label='x=y')\n",
    "print('Scatter of photometric redshifts: ',np.std(y_valid-y_est))\n",
    "plt.xlim([0,0.4])\n",
    "plt.ylim([0,0.4])"
   ]
  },
  {
   "cell_type": "code",
   "execution_count": null,
   "id": "b766dd09",
   "metadata": {},
   "outputs": [],
   "source": [
    "tree.plot_tree(regr_1)"
   ]
  }
 ],
 "metadata": {
  "kernelspec": {
   "display_name": "Python 3 (ipykernel)",
   "language": "python",
   "name": "python3"
  },
  "language_info": {
   "codemirror_mode": {
    "name": "ipython",
    "version": 3
   },
   "file_extension": ".py",
   "mimetype": "text/x-python",
   "name": "python",
   "nbconvert_exporter": "python",
   "pygments_lexer": "ipython3",
   "version": "3.9.15"
  }
 },
 "nbformat": 4,
 "nbformat_minor": 5
}
